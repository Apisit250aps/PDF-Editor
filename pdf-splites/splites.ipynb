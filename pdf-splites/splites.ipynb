{
 "cells": [
  {
   "cell_type": "markdown",
   "metadata": {},
   "source": [
    "**วัตถุประสงค์ของโค้ด**\n",
    "\n",
    "\n",
    "1. แยกไฟล์เกียรติบัตร:\n",
    "\n",
    "    แยกไฟล์ PDF เกียรติบัตรที่มีหลายหน้าออกเป็นไฟล์ PDF หน้าเดียว\n",
    "    สะดวกในการจัดเก็บ ค้นหา และใช้งานไฟล์เกียรติบัตร\n",
    "2. ตั้งชื่อไฟล์ตามเจ้าของ:\n",
    "\n",
    "    ช่วยให้ระบุตัวตนของเจ้าของเกียรติบัตรได้ง่ายโดยไม่ต้องเปิดไฟล์\n",
    "    สะดวกในการจัดการและค้นหาไฟล์เกียรติบัตร\n",
    "3. ประหยัดเวลา:\n",
    "\n",
    "    ช่วยให้แยกและตั้งชื่อไฟล์เกียรติบัตรได้โดยอัตโนมัติ\n",
    "\n",
    "**ตัวอย่างการใช้งาน**\n",
    "- สถาบันการศึกษาสามารถใช้โค้ดนี้เพื่อแยกและตั้งชื่อไฟล์เกียรติบัตรให้นักเรียน\n",
    "- หน่วยงานต่างๆ สามารถใช้โค้ดนี้เพื่อแยกและตั้งชื่อไฟล์เกียรติบัตรของพนักงาน\n",
    "- บุคคลทั่วไปสามารถใช้โค้ดนี้เพื่อแยกและตั้งชื่อไฟล์เกียรติบัตรส่วนตัว\n",
    "\n",
    "\n",
    "**สรุป**\n",
    "\n",
    "โค้ด Python นี้เป็นเครื่องมือที่มีประโยชน์สำหรับการจัดการไฟล์ PDF เกียรติบัตร ช่วยให้แยกไฟล์ ตั้งชื่อไฟล์ \n",
    "\n",
    "\n",
    "**เตรียมไลบรารีที่ต้องใช้**\n",
    "\n",
    "```\n",
    "pip install PyPDF2\n",
    "pip install pandas\n",
    "pip install openpyxl\n",
    "\n",
    "```\n",
    "\n",
    "**เตรียมไฟล์**\n",
    "1. ไฟล์เกียรติบัตร `certificate.pdf` \n",
    "2. ไฟล์รายชื่อที่ใช้ทำเกียรติบัตร `list_name.xlsx`"
   ]
  },
  {
   "cell_type": "markdown",
   "metadata": {},
   "source": [
    "**นำเข้าไลบรารีที่จำเป็น**\n",
    "- `PyPDF2` ใช้สำหรับจัดการไฟล์ **PDF**\n",
    "- `pandas` ใช้สำหรับอ่านข้อมูลจากไฟล์ **Excel**"
   ]
  },
  {
   "cell_type": "code",
   "execution_count": 5,
   "metadata": {},
   "outputs": [],
   "source": [
    "from PyPDF2 import PdfWriter, PdfReader\n",
    "import pandas as pd"
   ]
  },
  {
   "cell_type": "markdown",
   "metadata": {},
   "source": [
    "**อ่านข้อมูลจากไฟล์ Excel**\n",
    "- เปิดไฟล์ `Excel` ชื่อ \"`list_name.xlsx`\"\n",
    "- อ่านข้อมูลใน `Sheet` ชื่อ \"Sheet2\" เก็บไว้ในตัวแปร `data`"
   ]
  },
  {
   "cell_type": "code",
   "execution_count": null,
   "metadata": {},
   "outputs": [],
   "source": [
    "file = pd.ExcelFile('list_name.xlsx')\n",
    "data = pd.read_excel(file, sheet_name='Sheet2')"
   ]
  },
  {
   "cell_type": "markdown",
   "metadata": {},
   "source": [
    "**เปิดไฟล์ PDF**\n",
    "- เปิดไฟล์ **PDF** ชื่อ \"`certificate.pdf`\"\n",
    "- นับจำนวนหน้าของไฟล์ **PDF** เก็บไว้ในตัวแปร `pages_number`"
   ]
  },
  {
   "cell_type": "code",
   "execution_count": null,
   "metadata": {},
   "outputs": [],
   "source": [
    "pdf = PdfReader('certificate.pdf')\n",
    "pages_number = len(pdf.pages)\n",
    "pages_number"
   ]
  },
  {
   "cell_type": "markdown",
   "metadata": {},
   "source": [
    "**วนลูปเพื่อแยกหน้า** **PDF**\n",
    "\n",
    "- วนลูปเท่ากับจำนวนหน้าของไฟล์ **PDF**\n",
    "- สร้างวัตถุ `PdfWriter` เพื่อใช้สร้างไฟล์ **PDF** ใหม่\n",
    "- เข้าถึงหน้าปัจจุบันของไฟล์ **PDF** เก็บไว้ในตัวแปร `cer`\n",
    "- อ่านข้อมูลชื่อจากไฟล์ **Excel** บรรทัดที่ตรงกับรอบลูป เก็บไว้ในตัวแปร name\n",
    "- เพิ่มหน้า **PDF** ที่อ่านมาใส่ในไฟล์ **PDF** ใหม่\n",
    "- สร้างไฟล์ **PDF** ใหม่ โดยตั้งชื่อตามรูปแบบ \"`ลำดับหน้า ชื่อ นามสกุล.pdf`\"\n",
    "- เขียนข้อมูลไฟล์ **PDF** ใหม่"
   ]
  },
  {
   "cell_type": "code",
   "execution_count": null,
   "metadata": {},
   "outputs": [],
   "source": [
    "for index in range(pages_number):\n",
    "    writer = PdfWriter()\n",
    "    cer = pdf.pages[index]\n",
    "    \n",
    "    name = data.values[index]\n",
    "    writer.add_page(cer)\n",
    "    \n",
    "    file_output = open(file=f\"{index+1} {name[1]} {name[2]}.pdf\", mode='wb')\n",
    "    writer.write(file_output)\n",
    "    \n",
    "    "
   ]
  }
 ],
 "metadata": {
  "kernelspec": {
   "display_name": "env",
   "language": "python",
   "name": "python3"
  },
  "language_info": {
   "codemirror_mode": {
    "name": "ipython",
    "version": 3
   },
   "file_extension": ".py",
   "mimetype": "text/x-python",
   "name": "python",
   "nbconvert_exporter": "python",
   "pygments_lexer": "ipython3",
   "version": "3.11.5"
  }
 },
 "nbformat": 4,
 "nbformat_minor": 2
}
