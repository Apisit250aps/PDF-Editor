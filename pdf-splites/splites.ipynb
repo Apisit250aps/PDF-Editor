{
 "cells": [
  {
   "cell_type": "markdown",
   "metadata": {},
   "source": [
    "**วัตถุประสงค์ของโค้ด**\n",
    "\n",
    "\n",
    "โค้ดนี้ทำหน้าที่แยกไฟล์ PDF ที่มีหลายหน้าออกเป็นไฟล์ PDF หน้าเดียว โดยตั้งชื่อไฟล์ตามข้อมูลที่อ่านมาจากไฟล์ Excel\n",
    "\n",
    "**เตรียมไลบรารีที่ต้องใช้**\n",
    "\n",
    "```\n",
    "pip install PyPDF2\n",
    "pip install pandas\n",
    "pip install openpyxl\n",
    "\n",
    "```\n",
    "\n",
    "**เตรียมไฟล์**\n",
    "1. ไฟล์เกียรติบัตร `certificate.pdf` \n",
    "2. ไฟล์รายชื่อที่ใช้ทำเกียรติบัตร `list_name.xlsx`"
   ]
  },
  {
   "cell_type": "markdown",
   "metadata": {},
   "source": [
    "1. นำเข้าไลบรารีที่จำเป็น\n",
    "    - `PyPDF2` ใช้สำหรับจัดการไฟล์ **PDF**\n",
    "    - `pandas` ใช้สำหรับอ่านข้อมูลจากไฟล์ **Excel**"
   ]
  },
  {
   "cell_type": "code",
   "execution_count": 5,
   "metadata": {},
   "outputs": [],
   "source": [
    "from PyPDF2 import PdfWriter, PdfReader\n",
    "import pandas as pd"
   ]
  },
  {
   "cell_type": "markdown",
   "metadata": {},
   "source": [
    "2. อ่านข้อมูลจากไฟล์ Excel\n",
    "   - เปิดไฟล์ `Excel` ชื่อ \"`list_name.xlsx`\"\n",
    "   - อ่านข้อมูลใน `Sheet` ชื่อ \"Sheet2\" เก็บไว้ในตัวแปร `data`"
   ]
  },
  {
   "cell_type": "code",
   "execution_count": null,
   "metadata": {},
   "outputs": [],
   "source": [
    "file = pd.ExcelFile('list_name.xlsx')\n",
    "data = pd.read_excel(file, sheet_name='Sheet2')"
   ]
  },
  {
   "cell_type": "markdown",
   "metadata": {},
   "source": [
    "3. เปิดไฟล์ PDF\n",
    "   - เปิดไฟล์ **PDF** ชื่อ \"`certificate.pdf`\"\n",
    "   - นับจำนวนหน้าของไฟล์ **PDF** เก็บไว้ในตัวแปร `pages_number`"
   ]
  },
  {
   "cell_type": "code",
   "execution_count": null,
   "metadata": {},
   "outputs": [],
   "source": [
    "pdf = PdfReader('certificate.pdf')\n",
    "pages_number = len(pdf.pages)\n",
    "pages_number"
   ]
  },
  {
   "cell_type": "markdown",
   "metadata": {},
   "source": [
    "4. วนลูปเพื่อแยกหน้า **PDF**\n",
    "\n",
    "    - วนลูปเท่ากับจำนวนหน้าของไฟล์ **PDF**\n",
    "    - สร้างวัตถุ `PdfWriter` เพื่อใช้สร้างไฟล์ **PDF** ใหม่\n",
    "    - เข้าถึงหน้าปัจจุบันของไฟล์ **PDF** เก็บไว้ในตัวแปร `cer`\n",
    "    - อ่านข้อมูลชื่อจากไฟล์ **Excel** บรรทัดที่ตรงกับรอบลูป เก็บไว้ในตัวแปร name\n",
    "    - เพิ่มหน้า **PDF** ที่อ่านมาใส่ในไฟล์ **PDF** ใหม่\n",
    "    - สร้างไฟล์ **PDF** ใหม่ โดยตั้งชื่อตามรูปแบบ \"`ลำดับหน้า ชื่อ นามสกุล.pdf`\"\n",
    "    - เขียนข้อมูลไฟล์ **PDF** ใหม่"
   ]
  },
  {
   "cell_type": "code",
   "execution_count": null,
   "metadata": {},
   "outputs": [],
   "source": [
    "for index in range(pages_number):\n",
    "    writer = PdfWriter()\n",
    "    cer = pdf.pages[index]\n",
    "    \n",
    "    name = data.values[index]\n",
    "    writer.add_page(cer)\n",
    "    \n",
    "    file_output = open(file=f\"{index+1} {name[1]} {name[2]}.pdf\", mode='wb')\n",
    "    writer.write(file_output)\n",
    "    \n",
    "    "
   ]
  }
 ],
 "metadata": {
  "kernelspec": {
   "display_name": "env",
   "language": "python",
   "name": "python3"
  },
  "language_info": {
   "codemirror_mode": {
    "name": "ipython",
    "version": 3
   },
   "file_extension": ".py",
   "mimetype": "text/x-python",
   "name": "python",
   "nbconvert_exporter": "python",
   "pygments_lexer": "ipython3",
   "version": "3.11.5"
  }
 },
 "nbformat": 4,
 "nbformat_minor": 2
}
